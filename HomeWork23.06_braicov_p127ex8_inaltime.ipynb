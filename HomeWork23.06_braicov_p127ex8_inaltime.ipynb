{
 "cells": [
  {
   "cell_type": "code",
   "execution_count": 7,
   "id": "5fc44191",
   "metadata": {},
   "outputs": [],
   "source": [
    "\n",
    "def height(a, b, c):\n",
    "    import math\n",
    "    p = 0.5 * ( a + b + c )\n",
    "    ha= (2 * (math.sqrt( p * (p - a) * (p - b) * (p - c)))) / a\n",
    "    hb= (2 * (math.sqrt( p * (p - a) * (p - b) * (p - c)))) / b\n",
    "    hc= (2 * (math.sqrt( p * (p - a) * (p - b) * (p - c)))) / c\n",
    "    return ha, hb, hc\n"
   ]
  },
  {
   "cell_type": "code",
   "execution_count": 10,
   "id": "b46257fd",
   "metadata": {},
   "outputs": [
    {
     "data": {
      "text/plain": [
       "(3.7453095666446585, 4.993746088859544, 5.9924953066314535)"
      ]
     },
     "execution_count": 10,
     "metadata": {},
     "output_type": "execute_result"
    }
   ],
   "source": [
    "height(8, 6, 5)"
   ]
  },
  {
   "cell_type": "code",
   "execution_count": null,
   "id": "723744ad",
   "metadata": {},
   "outputs": [],
   "source": []
  },
  {
   "cell_type": "code",
   "execution_count": null,
   "id": "25bff9d2",
   "metadata": {},
   "outputs": [],
   "source": []
  }
 ],
 "metadata": {
  "kernelspec": {
   "display_name": "Python 3",
   "language": "python",
   "name": "python3"
  },
  "language_info": {
   "codemirror_mode": {
    "name": "ipython",
    "version": 3
   },
   "file_extension": ".py",
   "mimetype": "text/x-python",
   "name": "python",
   "nbconvert_exporter": "python",
   "pygments_lexer": "ipython3",
   "version": "3.7.9"
  }
 },
 "nbformat": 4,
 "nbformat_minor": 5
}
