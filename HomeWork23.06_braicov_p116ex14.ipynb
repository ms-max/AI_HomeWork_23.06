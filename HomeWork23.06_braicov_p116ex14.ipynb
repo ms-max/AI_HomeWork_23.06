{
 "cells": [
  {
   "cell_type": "code",
   "execution_count": 19,
   "id": "02c46a8f",
   "metadata": {},
   "outputs": [
    {
     "name": "stdout",
     "output_type": "stream",
     "text": [
      "Fisierul conține 4 cifre și 15 litere\n"
     ]
    }
   ],
   "source": [
    "#deschidem fițierul petru citire\n",
    "f = open(\"t.txt\", \"r\")\n",
    "#eliberăm variabilele-contor\n",
    "count_num = 0\n",
    "count_let = 0\n",
    "#parcurgem fiecare simbol(anume nr de ordine în ASCII) în fiecare rând\n",
    "for line in f.read():\n",
    "    for i in line:\n",
    "        a = ord(i)\n",
    "        #dacă e cifră  - > incrementăm contorul respectiv\n",
    "        if a > 47 and a < 58:\n",
    "            count_num += 1\n",
    "        #dacă e literă  - > incrementăm contorul respectiv\n",
    "        if a > 64 and a < 123 and not (a > 90 and a < 97):\n",
    "            count_let += 1\n",
    "print(\"Fisierul conține\",count_num, \"cifre și\", count_let,\"litere\")"
   ]
  }
 ],
 "metadata": {
  "kernelspec": {
   "display_name": "Python 3",
   "language": "python",
   "name": "python3"
  },
  "language_info": {
   "codemirror_mode": {
    "name": "ipython",
    "version": 3
   },
   "file_extension": ".py",
   "mimetype": "text/x-python",
   "name": "python",
   "nbconvert_exporter": "python",
   "pygments_lexer": "ipython3",
   "version": "3.7.9"
  }
 },
 "nbformat": 4,
 "nbformat_minor": 5
}
