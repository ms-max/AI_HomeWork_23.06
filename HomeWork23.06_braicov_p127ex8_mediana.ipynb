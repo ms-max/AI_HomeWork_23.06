{
 "cells": [
  {
   "cell_type": "code",
   "execution_count": 17,
   "id": "5fc44191",
   "metadata": {},
   "outputs": [],
   "source": [
    "\n",
    "def mediana(a, b, c):\n",
    "    import math\n",
    "    ma= 0.5 * (math.sqrt(2 * b **2 + 2 * c ** 2 - a ** 2))\n",
    "    mb= 0.5 * (math.sqrt(2 * c **2 + 2 * b ** 2 - b ** 2))\n",
    "    mc= 0.5 * (math.sqrt(2 * b **2 + 2 * a ** 2 - c ** 2))\n",
    "    return ma, mb, mc\n"
   ]
  },
  {
   "cell_type": "code",
   "execution_count": 18,
   "id": "b46257fd",
   "metadata": {},
   "outputs": [
    {
     "data": {
      "text/plain": [
       "(3.605551275463989, 3.840572873934304, 2.5)"
      ]
     },
     "execution_count": 18,
     "metadata": {},
     "output_type": "execute_result"
    }
   ],
   "source": [
    "mediana(4, 3, 5)"
   ]
  },
  {
   "cell_type": "code",
   "execution_count": null,
   "id": "723744ad",
   "metadata": {},
   "outputs": [],
   "source": []
  },
  {
   "cell_type": "code",
   "execution_count": null,
   "id": "25bff9d2",
   "metadata": {},
   "outputs": [],
   "source": []
  }
 ],
 "metadata": {
  "kernelspec": {
   "display_name": "Python 3",
   "language": "python",
   "name": "python3"
  },
  "language_info": {
   "codemirror_mode": {
    "name": "ipython",
    "version": 3
   },
   "file_extension": ".py",
   "mimetype": "text/x-python",
   "name": "python",
   "nbconvert_exporter": "python",
   "pygments_lexer": "ipython3",
   "version": "3.7.9"
  }
 },
 "nbformat": 4,
 "nbformat_minor": 5
}
